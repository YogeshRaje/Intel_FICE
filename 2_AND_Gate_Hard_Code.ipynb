{
 "cells": [
  {
   "cell_type": "code",
   "execution_count": null,
   "metadata": {
    "id": "fI15fXAK83mi",
    "outputId": "af464ee6-8399-41d0-903a-ed3785c12d0b"
   },
   "outputs": [
    {
     "name": "stdout",
     "output_type": "stream",
     "text": [
      "AND(1, 1) = 1\n",
      "AND(1, 0) = 0\n",
      "AND(0, 1) = 0\n",
      "AND(0, 0) = 0\n"
     ]
    }
   ],
   "source": [
    "#Basic AND Model\n",
    "import numpy as np\n",
    "def unit_step(v):\n",
    "    if v >= 0:\n",
    "        return 1\n",
    "    else:\n",
    "        return 0\n",
    "    \n",
    "def perceptron(x, w, b):\n",
    "    v = np.dot(w, x) + b\n",
    "    y = unit_step(v)\n",
    "    return y\n",
    "\n",
    "def AND_percep(x):\n",
    "    w = np.array([1, 1])\n",
    "    b = -1.5\n",
    "    return perceptron(x, w, b)\n",
    "\n",
    "# Test\n",
    "example1 = np.array([1, 1])\n",
    "example2 = np.array([1, 0])\n",
    "example3 = np.array([0, 1])\n",
    "example4 = np.array([0, 0])\n",
    "\n",
    "print(\"AND({}, {}) = {}\".format(1, 1, AND_percep(example1)))\n",
    "print(\"AND({}, {}) = {}\".format(1, 0, AND_percep(example2)))\n",
    "print(\"AND({}, {}) = {}\".format(0, 1, AND_percep(example3)))\n",
    "print(\"AND({}, {}) = {}\".format(0, 0, AND_percep(example4)))"
   ]
  },
  {
   "cell_type": "code",
   "execution_count": null,
   "metadata": {
    "id": "Y5tqqfLT83mn"
   },
   "outputs": [],
   "source": []
  },
  {
   "cell_type": "code",
   "execution_count": null,
   "metadata": {
    "id": "vIYVLmb283mo"
   },
   "outputs": [],
   "source": []
  },
  {
   "cell_type": "code",
   "execution_count": null,
   "metadata": {
    "id": "V9udM_zd83mp"
   },
   "outputs": [],
   "source": []
  }
 ],
 "metadata": {
  "colab": {
   "name": "2.AND Gate Hard Code.ipynb",
   "provenance": []
  },
  "kernelspec": {
   "display_name": "Python 3 (ipykernel)",
   "language": "python",
   "name": "python3"
  },
  "language_info": {
   "codemirror_mode": {
    "name": "ipython",
    "version": 3
   },
   "file_extension": ".py",
   "mimetype": "text/x-python",
   "name": "python",
   "nbconvert_exporter": "python",
   "pygments_lexer": "ipython3",
   "version": "3.9.12"
  }
 },
 "nbformat": 4,
 "nbformat_minor": 1
}
