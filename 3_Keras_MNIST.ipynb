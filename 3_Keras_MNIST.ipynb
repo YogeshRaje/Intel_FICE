{
 "cells": [
  {
   "cell_type": "markdown",
   "metadata": {},
   "source": [
    "## Handwritten Image Detection with Keras using MNIST data\n",
    "\n",
    "In this exercise we will work with image data: specifically the famous MNIST data set.  This data set contains 70,000 images of handwritten digits in grayscale (0=black, 255 = white).  The images are 28 pixels by 28 pixels for a total of 784 pixels.  This is quite small by image standards.  Also, the images are well centered and isolated.  This makes this problem solvable with standard fully connected neural nets without too much pre-work."
   ]
  },
  {
   "cell_type": "markdown",
   "metadata": {},
   "source": [
    "In the first part of this notebook, we will walk you through loading in the data, building a network, and training it.  Then it will be your turn to try different models and see if you can improve performance"
   ]
  },
  {
   "cell_type": "code",
   "execution_count": 1,
   "metadata": {},
   "outputs": [],
   "source": [
    "# Preliminaries\n",
    "\n",
    "from __future__ import print_function\n",
    "\n",
    "import keras\n",
    "from keras.datasets import mnist\n",
    "from keras.models import Sequential\n",
    "from keras.layers import Dense, Dropout\n",
    "from keras.optimizers import RMSprop\n",
    "\n",
    "import numpy as np\n",
    "import matplotlib.pyplot as plt\n",
    "%matplotlib inline"
   ]
  },
  {
   "cell_type": "markdown",
   "metadata": {},
   "source": [
    "Let's explore the dataset a little bit"
   ]
  },
  {
   "cell_type": "code",
   "execution_count": 2,
   "metadata": {
    "jupyter": {
     "outputs_hidden": false
    }
   },
   "outputs": [
    {
     "name": "stdout",
     "output_type": "stream",
     "text": [
      "Downloading data from https://storage.googleapis.com/tensorflow/tf-keras-datasets/mnist.npz\n",
      "11490434/11490434 [==============================] - 2s 0us/step\n"
     ]
    }
   ],
   "source": [
    "# Load the data, shuffled and split between train and test sets\n",
    "(x_train, y_train), (x_test, y_test) = mnist.load_data()"
   ]
  },
  {
   "cell_type": "code",
   "execution_count": 3,
   "metadata": {
    "jupyter": {
     "outputs_hidden": false
    }
   },
   "outputs": [
    {
     "data": {
      "text/plain": [
       "(28, 28)"
      ]
     },
     "execution_count": 3,
     "metadata": {},
     "output_type": "execute_result"
    }
   ],
   "source": [
    "x_train[0].shape"
   ]
  },
  {
   "cell_type": "code",
   "execution_count": 4,
   "metadata": {
    "jupyter": {
     "outputs_hidden": false
    }
   },
   "outputs": [
    {
     "data": {
      "text/plain": [
       "array([[  0,   0,   0,   0,   0,   0,   0,   0,   0,   0,   0,   0,   0,\n",
       "          0,   0,   0,   0,   0,   0,   0,   0,   0,   0,   0,   0,   0,\n",
       "          0,   0],\n",
       "       [  0,   0,   0,   0,   0,   0,   0,   0,   0,   0,   0,   0,   0,\n",
       "          0,   0,   0,   0,   0,   0,   0,   0,   0,   0,   0,   0,   0,\n",
       "          0,   0],\n",
       "       [  0,   0,   0,   0,   0,   0,   0,   0,   0,   0,   0,   0,   0,\n",
       "          0,   0,   0,   0,   0,   0,   0,   0,   0,   0,   0,   0,   0,\n",
       "          0,   0],\n",
       "       [  0,   0,   0,   0,   0,   0,   0,   0,   0,   0,   0,   0,   0,\n",
       "          0,   0,   0,   0,   0,   0,   0,   0,   0,   0,   0,   0,   0,\n",
       "          0,   0],\n",
       "       [  0,   0,   0,   0,   0,   0,   0,   0,   0,   0,   0,   0,   0,\n",
       "          0,   0,   0,   0,   0,   0,   0,   0,   0,   0,   0,   0,   0,\n",
       "          0,   0],\n",
       "       [  0,   0,   0,   0,   0,   0,   0,   0,   0,   0,   0,  87, 138,\n",
       "        170, 253, 201, 244, 212, 222, 138,  86,  22,   0,   0,   0,   0,\n",
       "          0,   0],\n",
       "       [  0,   0,   0,   0,   0,   0,   0,   0,   0,   0,  95, 253, 252,\n",
       "        252, 252, 252, 253, 252, 252, 252, 252, 245,  80,   0,   0,   0,\n",
       "          0,   0],\n",
       "       [  0,   0,   0,   0,   0,   0,   0,   0,   0,  68, 246, 205,  69,\n",
       "         69,  69,  69,  69,  69,  69,  69, 205, 253, 240,  50,   0,   0,\n",
       "          0,   0],\n",
       "       [  0,   0,   0,   0,   0,   0,   0,   0,   0, 187, 252, 218,  34,\n",
       "          0,   0,   0,   0,   0,   0,   0, 116, 253, 252,  69,   0,   0,\n",
       "          0,   0],\n",
       "       [  0,   0,   0,   0,   0,   0,   0,   0, 116, 248, 252, 253,  92,\n",
       "          0,   0,   0,   0,   0,   0,  95, 230, 253, 157,   6,   0,   0,\n",
       "          0,   0],\n",
       "       [  0,   0,   0,   0,   0,   0,   0,   0, 116, 249, 253, 189,  42,\n",
       "          0,   0,   0,   0,  36, 170, 253, 243, 158,   0,   0,   0,   0,\n",
       "          0,   0],\n",
       "       [  0,   0,   0,   0,   0,   0,   0,   0,   0, 133, 252, 245, 140,\n",
       "         34,   0,   0,  57, 219, 252, 235,  60,   0,   0,   0,   0,   0,\n",
       "          0,   0],\n",
       "       [  0,   0,   0,   0,   0,   0,   0,   0,   0,  25, 205, 253, 252,\n",
       "        234, 184, 184, 253, 240, 100,  44,   0,   0,   0,   0,   0,   0,\n",
       "          0,   0],\n",
       "       [  0,   0,   0,   0,   0,   0,   0,   0,   0,   0,  21, 161, 219,\n",
       "        252, 252, 252, 234,  37,   0,   0,   0,   0,   0,   0,   0,   0,\n",
       "          0,   0],\n",
       "       [  0,   0,   0,   0,   0,   0,   0,   0,   0,   0,   0,  11, 203,\n",
       "        252, 252, 252, 251, 135,   0,   0,   0,   0,   0,   0,   0,   0,\n",
       "          0,   0],\n",
       "       [  0,   0,   0,   0,   0,   0,   0,   0,   0,   9,  76, 255, 253,\n",
       "        205, 168, 220, 255, 253, 137,   5,   0,   0,   0,   0,   0,   0,\n",
       "          0,   0],\n",
       "       [  0,   0,   0,   0,   0,   0,   0,   0,   0, 114, 252, 249, 132,\n",
       "         25,   0,   0, 180, 252, 252,  45,   0,   0,   0,   0,   0,   0,\n",
       "          0,   0],\n",
       "       [  0,   0,   0,   0,   0,   0,   0,   0,  51, 220, 252, 199,   0,\n",
       "          0,   0,   0,  38, 186, 252, 154,   7,   0,   0,   0,   0,   0,\n",
       "          0,   0],\n",
       "       [  0,   0,   0,   0,   0,   0,   0,   0, 184, 252, 252,  21,   0,\n",
       "          0,   0,   0,   0,  67, 252, 252,  22,   0,   0,   0,   0,   0,\n",
       "          0,   0],\n",
       "       [  0,   0,   0,   0,   0,   0,   0,   0, 184, 252, 200,   0,   0,\n",
       "          0,   0,   0,   0,  47, 252, 252,  22,   0,   0,   0,   0,   0,\n",
       "          0,   0],\n",
       "       [  0,   0,   0,   0,   0,   0,   0,   0, 185, 253, 201,   0,   0,\n",
       "          0,   0,   0,   3, 118, 253, 245,  21,   0,   0,   0,   0,   0,\n",
       "          0,   0],\n",
       "       [  0,   0,   0,   0,   0,   0,   0,   0, 163, 252, 252,   0,   0,\n",
       "          0,   0,   0,  97, 252, 252,  87,   0,   0,   0,   0,   0,   0,\n",
       "          0,   0],\n",
       "       [  0,   0,   0,   0,   0,   0,   0,   0,  51, 240, 252, 123,  70,\n",
       "         70, 112, 184, 222, 252, 170,  13,   0,   0,   0,   0,   0,   0,\n",
       "          0,   0],\n",
       "       [  0,   0,   0,   0,   0,   0,   0,   0,   0, 165, 252, 253, 252,\n",
       "        252, 252, 252, 245, 139,  13,   0,   0,   0,   0,   0,   0,   0,\n",
       "          0,   0],\n",
       "       [  0,   0,   0,   0,   0,   0,   0,   0,   0,   9,  75, 253, 252,\n",
       "        221, 137, 137,  21,   0,   0,   0,   0,   0,   0,   0,   0,   0,\n",
       "          0,   0],\n",
       "       [  0,   0,   0,   0,   0,   0,   0,   0,   0,   0,   0,   0,   0,\n",
       "          0,   0,   0,   0,   0,   0,   0,   0,   0,   0,   0,   0,   0,\n",
       "          0,   0],\n",
       "       [  0,   0,   0,   0,   0,   0,   0,   0,   0,   0,   0,   0,   0,\n",
       "          0,   0,   0,   0,   0,   0,   0,   0,   0,   0,   0,   0,   0,\n",
       "          0,   0],\n",
       "       [  0,   0,   0,   0,   0,   0,   0,   0,   0,   0,   0,   0,   0,\n",
       "          0,   0,   0,   0,   0,   0,   0,   0,   0,   0,   0,   0,   0,\n",
       "          0,   0]], dtype=uint8)"
      ]
     },
     "execution_count": 4,
     "metadata": {},
     "output_type": "execute_result"
    }
   ],
   "source": [
    "#Let's just look at a particular example to see what is inside\n",
    "\n",
    "x_train[333]  ## Just a 28 x 28 numpy array of ints from 0 to 255"
   ]
  },
  {
   "cell_type": "code",
   "execution_count": 5,
   "metadata": {
    "jupyter": {
     "outputs_hidden": false
    }
   },
   "outputs": [
    {
     "data": {
      "text/plain": [
       "8"
      ]
     },
     "execution_count": 5,
     "metadata": {},
     "output_type": "execute_result"
    }
   ],
   "source": [
    "# What is the corresponding label in the training set?\n",
    "y_train[333]"
   ]
  },
  {
   "cell_type": "code",
   "execution_count": 6,
   "metadata": {
    "jupyter": {
     "outputs_hidden": false
    }
   },
   "outputs": [
    {
     "data": {
      "text/plain": [
       "<matplotlib.image.AxesImage at 0x283185f0730>"
      ]
     },
     "execution_count": 6,
     "metadata": {},
     "output_type": "execute_result"
    },
    {
     "data": {
      "image/png": "[encoded data removed]",
      "text/plain": [
       "<Figure size 432x288 with 1 Axes>"
      ]
     },
     "metadata": {
      "needs_background": "light"
     },
     "output_type": "display_data"
    }
   ],
   "source": [
    "# Let's see what this image actually looks like\n",
    "\n",
    "plt.imshow(x_train[333], cmap='Greys_r')"
   ]
  },
  {
   "cell_type": "code",
   "execution_count": 7,
   "metadata": {
    "jupyter": {
     "outputs_hidden": false
    }
   },
   "outputs": [
    {
     "name": "stdout",
     "output_type": "stream",
     "text": [
      "(60000, 28, 28) train samples\n",
      "(10000, 28, 28) test samples\n"
     ]
    }
   ],
   "source": [
    "# this is the shape of the np.array x_train\n",
    "# it is 3 dimensional.\n",
    "print(x_train.shape, 'train samples')\n",
    "print(x_test.shape, 'test samples')"
   ]
  },
  {
   "cell_type": "code",
   "execution_count": 8,
   "metadata": {
    "jupyter": {
     "outputs_hidden": false
    }
   },
   "outputs": [],
   "source": [
    "## For our purposes, these images are just a vector of 784 inputs, so let's convert\n",
    "x_train = x_train.reshape(len(x_train), 28*28)\n",
    "x_test = x_test.reshape(len(x_test), 28*28)\n",
    "\n",
    "## Keras works with floats, so we must cast the numbers to floats\n",
    "x_train = x_train.astype('float32')\n",
    "x_test = x_test.astype('float32')\n",
    "\n",
    "## Normalize the inputs so they are between 0 and 1\n",
    "x_train /= 255\n",
    "x_test /= 255\n"
   ]
  },
  {
   "cell_type": "code",
   "execution_count": 9,
   "metadata": {
    "jupyter": {
     "outputs_hidden": false
    }
   },
   "outputs": [
    {
     "data": {
      "text/plain": [
       "array([0., 0., 0., 0., 0., 0., 0., 0., 1., 0.], dtype=float32)"
      ]
     },
     "execution_count": 9,
     "metadata": {},
     "output_type": "execute_result"
    }
   ],
   "source": [
    "# convert class vectors to binary class matrices\n",
    "num_classes = 10\n",
    "y_train = keras.utils.to_categorical(y_train, num_classes)\n",
    "y_test = keras.utils.to_categorical(y_test, num_classes)\n",
    "\n",
    "y_train[333]  # now the digit k is represented by a 1 in the kth entry (0-indexed) of the length 10 vector"
   ]
  },
  {
   "cell_type": "code",
   "execution_count": 10,
   "metadata": {},
   "outputs": [],
   "source": [
    "# We will build a model with two hidden layers of size 512\n",
    "# Fully connected inputs at each layer\n",
    "# We will use dropout of .2 to help regularize\n",
    "model_1 = Sequential()\n",
    "model_1.add(Dense(64, activation='relu', input_shape=(784,)))\n",
    "model_1.add(Dropout(0.2))\n",
    "model_1.add(Dense(64, activation='relu'))\n",
    "model_1.add(Dropout(0.2))\n",
    "model_1.add(Dense(10, activation='softmax'))"
   ]
  },
  {
   "cell_type": "code",
   "execution_count": 11,
   "metadata": {
    "jupyter": {
     "outputs_hidden": false
    }
   },
   "outputs": [
    {
     "name": "stdout",
     "output_type": "stream",
     "text": [
      "Model: \"sequential\"\n",
      "_________________________________________________________________\n",
      " Layer (type)                Output Shape              Param #   \n",
      "=================================================================\n",
      " dense (Dense)               (None, 64)                50240     \n",
      "                                                                 \n",
      " dropout (Dropout)           (None, 64)                0         \n",
      "                                                                 \n",
      " dense_1 (Dense)             (None, 64)                4160      \n",
      "                                                                 \n",
      " dropout_1 (Dropout)         (None, 64)                0         \n",
      "                                                                 \n",
      " dense_2 (Dense)             (None, 10)                650       \n",
      "                                                                 \n",
      "=================================================================\n",
      "Total params: 55,050\n",
      "Trainable params: 55,050\n",
      "Non-trainable params: 0\n",
      "_________________________________________________________________\n"
     ]
    }
   ],
   "source": [
    "## Note that this model has a LOT of parameters\n",
    "model_1.summary()"
   ]
  },
  {
   "cell_type": "code",
   "execution_count": 12,
   "metadata": {},
   "outputs": [
    {
     "name": "stderr",
     "output_type": "stream",
     "text": [
      "C:\\Users\\user\\anaconda3\\lib\\site-packages\\keras\\optimizers\\optimizer_v2\\rmsprop.py:135: UserWarning: The `lr` argument is deprecated, use `learning_rate` instead.\n",
      "  super(RMSprop, self).__init__(name, **kwargs)\n"
     ]
    }
   ],
   "source": [
    "# Let's compile the model\n",
    "learning_rate = .001\n",
    "model_1.compile(loss='categorical_crossentropy',\n",
    "              optimizer=RMSprop(lr=learning_rate),\n",
    "              metrics=['accuracy'])\n",
    "# note that `categorical cross entropy` is the natural generalization \n",
    "# of the loss function we had in binary classification case, to multi class case"
   ]
  },
  {
   "cell_type": "code",
   "execution_count": 13,
   "metadata": {
    "jupyter": {
     "outputs_hidden": false
    }
   },
   "outputs": [
    {
     "name": "stdout",
     "output_type": "stream",
     "text": [
      "Epoch 1/30\n",
      "469/469 [==============================] - 4s 5ms/step - loss: 0.5186 - accuracy: 0.8433 - val_loss: 0.2068 - val_accuracy: 0.9367\n",
      "Epoch 2/30\n",
      "469/469 [==============================] - 2s 4ms/step - loss: 0.2511 - accuracy: 0.9265 - val_loss: 0.1481 - val_accuracy: 0.9537\n",
      "Epoch 3/30\n",
      "469/469 [==============================] - 2s 4ms/step - loss: 0.1972 - accuracy: 0.9416 - val_loss: 0.1248 - val_accuracy: 0.9613\n",
      "Epoch 4/30\n",
      "469/469 [==============================] - 2s 5ms/step - loss: 0.1722 - accuracy: 0.9494 - val_loss: 0.1183 - val_accuracy: 0.9649\n",
      "Epoch 5/30\n",
      "469/469 [==============================] - 2s 4ms/step - loss: 0.1533 - accuracy: 0.9551 - val_loss: 0.1093 - val_accuracy: 0.9677\n",
      "Epoch 6/30\n",
      "469/469 [==============================] - 3s 6ms/step - loss: 0.1410 - accuracy: 0.9584 - val_loss: 0.1054 - val_accuracy: 0.9690\n",
      "Epoch 7/30\n",
      "469/469 [==============================] - 3s 6ms/step - loss: 0.1334 - accuracy: 0.9599 - val_loss: 0.1003 - val_accuracy: 0.9705\n",
      "Epoch 8/30\n",
      "469/469 [==============================] - 2s 5ms/step - loss: 0.1268 - accuracy: 0.9628 - val_loss: 0.0972 - val_accuracy: 0.9725\n",
      "Epoch 9/30\n",
      "469/469 [==============================] - 2s 5ms/step - loss: 0.1232 - accuracy: 0.9634 - val_loss: 0.1012 - val_accuracy: 0.9720\n",
      "Epoch 10/30\n",
      "469/469 [==============================] - 2s 5ms/step - loss: 0.1153 - accuracy: 0.9659 - val_loss: 0.0989 - val_accuracy: 0.9731\n",
      "Epoch 11/30\n",
      "469/469 [==============================] - 2s 4ms/step - loss: 0.1109 - accuracy: 0.9671 - val_loss: 0.0983 - val_accuracy: 0.9745\n",
      "Epoch 12/30\n",
      "469/469 [==============================] - 2s 4ms/step - loss: 0.1093 - accuracy: 0.9682 - val_loss: 0.0972 - val_accuracy: 0.9729\n",
      "Epoch 13/30\n",
      "469/469 [==============================] - 2s 4ms/step - loss: 0.1042 - accuracy: 0.9697 - val_loss: 0.0972 - val_accuracy: 0.9726\n",
      "Epoch 14/30\n",
      "469/469 [==============================] - 2s 4ms/step - loss: 0.1031 - accuracy: 0.9701 - val_loss: 0.0955 - val_accuracy: 0.9740\n",
      "Epoch 15/30\n",
      "469/469 [==============================] - 2s 5ms/step - loss: 0.0996 - accuracy: 0.9699 - val_loss: 0.0953 - val_accuracy: 0.9737\n",
      "Epoch 16/30\n",
      "469/469 [==============================] - 3s 5ms/step - loss: 0.0984 - accuracy: 0.9703 - val_loss: 0.0996 - val_accuracy: 0.9741\n",
      "Epoch 17/30\n",
      "469/469 [==============================] - 3s 6ms/step - loss: 0.0964 - accuracy: 0.9714 - val_loss: 0.0997 - val_accuracy: 0.9749\n",
      "Epoch 18/30\n",
      "469/469 [==============================] - 3s 5ms/step - loss: 0.0931 - accuracy: 0.9724 - val_loss: 0.1076 - val_accuracy: 0.9729\n",
      "Epoch 19/30\n",
      "469/469 [==============================] - 2s 5ms/step - loss: 0.0943 - accuracy: 0.9720 - val_loss: 0.0989 - val_accuracy: 0.9749\n",
      "Epoch 20/30\n",
      "469/469 [==============================] - 2s 4ms/step - loss: 0.0911 - accuracy: 0.9733 - val_loss: 0.1050 - val_accuracy: 0.9754\n",
      "Epoch 21/30\n",
      "469/469 [==============================] - 2s 4ms/step - loss: 0.0895 - accuracy: 0.9732 - val_loss: 0.1053 - val_accuracy: 0.9724\n",
      "Epoch 22/30\n",
      "469/469 [==============================] - 2s 4ms/step - loss: 0.0888 - accuracy: 0.9741 - val_loss: 0.1014 - val_accuracy: 0.9755\n",
      "Epoch 23/30\n",
      "469/469 [==============================] - 2s 4ms/step - loss: 0.0901 - accuracy: 0.9738 - val_loss: 0.1035 - val_accuracy: 0.9753\n",
      "Epoch 24/30\n",
      "469/469 [==============================] - 2s 4ms/step - loss: 0.0887 - accuracy: 0.9743 - val_loss: 0.1073 - val_accuracy: 0.9736\n",
      "Epoch 25/30\n",
      "469/469 [==============================] - 2s 5ms/step - loss: 0.0869 - accuracy: 0.9744 - val_loss: 0.1106 - val_accuracy: 0.9738\n",
      "Epoch 26/30\n",
      "469/469 [==============================] - 2s 4ms/step - loss: 0.0835 - accuracy: 0.9760 - val_loss: 0.1111 - val_accuracy: 0.9743\n",
      "Epoch 27/30\n",
      "469/469 [==============================] - 2s 4ms/step - loss: 0.0903 - accuracy: 0.9751 - val_loss: 0.1072 - val_accuracy: 0.9751\n",
      "Epoch 28/30\n",
      "469/469 [==============================] - 2s 4ms/step - loss: 0.0815 - accuracy: 0.9765 - val_loss: 0.1120 - val_accuracy: 0.9741\n",
      "Epoch 29/30\n",
      "469/469 [==============================] - 2s 4ms/step - loss: 0.0838 - accuracy: 0.9754 - val_loss: 0.1074 - val_accuracy: 0.9747\n",
      "Epoch 30/30\n",
      "469/469 [==============================] - 2s 4ms/step - loss: 0.0839 - accuracy: 0.9751 - val_loss: 0.1088 - val_accuracy: 0.9762\n"
     ]
    }
   ],
   "source": [
    "# And now let's fit.\n",
    "\n",
    "batch_size = 128  # mini-batch with 128 examples\n",
    "epochs = 30\n",
    "history = model_1.fit(\n",
    "    x_train, y_train,\n",
    "    batch_size=batch_size,\n",
    "    epochs=epochs,\n",
    "    verbose=1,\n",
    "    validation_data=(x_test, y_test))"
   ]
  },
  {
   "cell_type": "code",
   "execution_count": 14,
   "metadata": {
    "jupyter": {
     "outputs_hidden": false
    }
   },
   "outputs": [
    {
     "name": "stdout",
     "output_type": "stream",
     "text": [
      "Test loss: 0.10884969681501389\n",
      "Test accuracy: 0.9761999845504761\n"
     ]
    }
   ],
   "source": [
    "## We will use Keras evaluate function to evaluate performance on the test set\n",
    "\n",
    "score = model_1.evaluate(x_test, y_test, verbose=0)\n",
    "print('Test loss:', score[0])\n",
    "print('Test accuracy:', score[1])"
   ]
  },
  {
   "cell_type": "code",
   "execution_count": 15,
   "metadata": {
    "jupyter": {
     "outputs_hidden": false
    }
   },
   "outputs": [
    {
     "data": {
      "image/png": "[encoded data removed]",
      "text/plain": [
       "<Figure size 864x432 with 2 Axes>"
      ]
     },
     "metadata": {
      "needs_background": "light"
     },
     "output_type": "display_data"
    }
   ],
   "source": [
    "def plot_loss_accuracy(history):\n",
    "    fig = plt.figure(figsize=(12, 6))\n",
    "    ax = fig.add_subplot(1, 2, 1)\n",
    "    ax.plot(history.history[\"loss\"],'r-x', label=\"Train Loss\")\n",
    "    ax.plot(history.history[\"val_loss\"],'b-x', label=\"Validation Loss\")\n",
    "    ax.legend()\n",
    "    ax.set_title('cross_entropy loss')\n",
    "    ax.grid(True)\n",
    "\n",
    "\n",
    "    ax = fig.add_subplot(1, 2, 2)\n",
    "    ax.plot(history.history[\"accuracy\"],'r-x', label=\"Train Accuracy\")\n",
    "    ax.plot(history.history[\"val_accuracy\"],'b-x', label=\"Validation Accuracy\")\n",
    "    ax.legend()\n",
    "    ax.set_title('accuracy')\n",
    "    ax.grid(True)\n",
    "    \n",
    "\n",
    "plot_loss_accuracy(history)"
   ]
  },
  {
   "cell_type": "markdown",
   "metadata": {},
   "source": [
    "This is reasonably good performance, but we can do even better!  Next you will build an even bigger network and compare the performance."
   ]
  },
  {
   "cell_type": "markdown",
   "metadata": {},
   "source": [
    "## Student Exercise\n",
    "### Your Turn: Build your own model\n",
    "Use the Keras \"Sequential\" functionality to build `model_2` with the following specifications:\n",
    "\n",
    "1. Two hidden layers.\n",
    "2. First hidden layer of size 400 and second of size 300\n",
    "3. Dropout of .4 at each layer\n",
    "4. How many parameters does your model have?  How does it compare with the previous model?\n",
    "4. Train this model for 20 epochs with RMSProp at a learning rate of .001 and a batch size of 128\n",
    "\n",
    "\n"
   ]
  },
  {
   "cell_type": "code",
   "execution_count": 16,
   "metadata": {},
   "outputs": [],
   "source": [
    "### Build your model here\n"
   ]
  },
  {
   "cell_type": "code",
   "execution_count": null,
   "metadata": {},
   "outputs": [],
   "source": []
  },
  {
   "cell_type": "code",
   "execution_count": null,
   "metadata": {},
   "outputs": [],
   "source": []
  },
  {
   "cell_type": "code",
   "execution_count": null,
   "metadata": {},
   "outputs": [],
   "source": []
  },
  {
   "cell_type": "markdown",
   "metadata": {},
   "source": [
    "## SOLUTION"
   ]
  },
  {
   "cell_type": "code",
   "execution_count": 17,
   "metadata": {
    "jupyter": {
     "outputs_hidden": false
    }
   },
   "outputs": [
    {
     "name": "stdout",
     "output_type": "stream",
     "text": [
      "Model: \"sequential_1\"\n",
      "_________________________________________________________________\n",
      " Layer (type)                Output Shape              Param #   \n",
      "=================================================================\n",
      " dense_3 (Dense)             (None, 400)               314000    \n",
      "                                                                 \n",
      " dropout_2 (Dropout)         (None, 400)               0         \n",
      "                                                                 \n",
      " dense_4 (Dense)             (None, 300)               120300    \n",
      "                                                                 \n",
      " dropout_3 (Dropout)         (None, 300)               0         \n",
      "                                                                 \n",
      " dense_5 (Dense)             (None, 10)                3010      \n",
      "                                                                 \n",
      "=================================================================\n",
      "Total params: 437,310\n",
      "Trainable params: 437,310\n",
      "Non-trainable params: 0\n",
      "_________________________________________________________________\n"
     ]
    }
   ],
   "source": [
    "model_2 = Sequential()\n",
    "model_2.add(Dense(400, activation='relu', input_shape=(784,)))\n",
    "model_2.add(Dropout(0.4))\n",
    "model_2.add(Dense(300, activation='relu', input_shape=(784,)))\n",
    "model_2.add(Dropout(0.4))\n",
    "model_2.add(Dense(10, activation='softmax'))\n",
    "\n",
    "model_2.summary()"
   ]
  },
  {
   "cell_type": "code",
   "execution_count": 18,
   "metadata": {
    "jupyter": {
     "outputs_hidden": false
    }
   },
   "outputs": [
    {
     "name": "stdout",
     "output_type": "stream",
     "text": [
      "Epoch 1/20\n",
      "469/469 [==============================] - 8s 14ms/step - loss: 0.3209 - accuracy: 0.9031 - val_loss: 0.1241 - val_accuracy: 0.9598\n",
      "Epoch 2/20\n",
      "469/469 [==============================] - 6s 13ms/step - loss: 0.1505 - accuracy: 0.9552 - val_loss: 0.0972 - val_accuracy: 0.9700\n",
      "Epoch 3/20\n",
      "469/469 [==============================] - 8s 17ms/step - loss: 0.1180 - accuracy: 0.9651 - val_loss: 0.0838 - val_accuracy: 0.9765\n",
      "Epoch 4/20\n",
      "469/469 [==============================] - 8s 17ms/step - loss: 0.1008 - accuracy: 0.9712 - val_loss: 0.0782 - val_accuracy: 0.9793\n",
      "Epoch 5/20\n",
      "469/469 [==============================] - 7s 16ms/step - loss: 0.0909 - accuracy: 0.9743 - val_loss: 0.0828 - val_accuracy: 0.9784\n",
      "Epoch 6/20\n",
      "469/469 [==============================] - 7s 16ms/step - loss: 0.0848 - accuracy: 0.9761 - val_loss: 0.0701 - val_accuracy: 0.9811\n",
      "Epoch 7/20\n",
      "469/469 [==============================] - 8s 16ms/step - loss: 0.0797 - accuracy: 0.9780 - val_loss: 0.0836 - val_accuracy: 0.9787\n",
      "Epoch 8/20\n",
      "469/469 [==============================] - 7s 15ms/step - loss: 0.0725 - accuracy: 0.9797 - val_loss: 0.0819 - val_accuracy: 0.9805\n",
      "Epoch 9/20\n",
      "469/469 [==============================] - 6s 13ms/step - loss: 0.0689 - accuracy: 0.9807 - val_loss: 0.0794 - val_accuracy: 0.9823\n",
      "Epoch 10/20\n",
      "469/469 [==============================] - 6s 13ms/step - loss: 0.0647 - accuracy: 0.9815 - val_loss: 0.0862 - val_accuracy: 0.9813\n",
      "Epoch 11/20\n",
      "469/469 [==============================] - 6s 13ms/step - loss: 0.0629 - accuracy: 0.9826 - val_loss: 0.0862 - val_accuracy: 0.9818\n",
      "Epoch 12/20\n",
      "469/469 [==============================] - 8s 16ms/step - loss: 0.0612 - accuracy: 0.9835 - val_loss: 0.0868 - val_accuracy: 0.9805\n",
      "Epoch 13/20\n",
      "469/469 [==============================] - 7s 16ms/step - loss: 0.0581 - accuracy: 0.9845 - val_loss: 0.0938 - val_accuracy: 0.9809\n",
      "Epoch 14/20\n",
      "469/469 [==============================] - 8s 17ms/step - loss: 0.0543 - accuracy: 0.9851 - val_loss: 0.1025 - val_accuracy: 0.9821\n",
      "Epoch 15/20\n",
      "469/469 [==============================] - 8s 17ms/step - loss: 0.0565 - accuracy: 0.9849 - val_loss: 0.1022 - val_accuracy: 0.9816\n",
      "Epoch 16/20\n",
      "469/469 [==============================] - 6s 14ms/step - loss: 0.0542 - accuracy: 0.9857 - val_loss: 0.0962 - val_accuracy: 0.9826\n",
      "Epoch 17/20\n",
      "469/469 [==============================] - 8s 18ms/step - loss: 0.0540 - accuracy: 0.9855 - val_loss: 0.0927 - val_accuracy: 0.9841\n",
      "Epoch 18/20\n",
      "469/469 [==============================] - 8s 16ms/step - loss: 0.0505 - accuracy: 0.9868 - val_loss: 0.0920 - val_accuracy: 0.9834\n",
      "Epoch 19/20\n",
      "469/469 [==============================] - 8s 17ms/step - loss: 0.0508 - accuracy: 0.9864 - val_loss: 0.0979 - val_accuracy: 0.9821\n",
      "Epoch 20/20\n",
      "469/469 [==============================] - 7s 15ms/step - loss: 0.0508 - accuracy: 0.9868 - val_loss: 0.0911 - val_accuracy: 0.9839\n",
      "\n",
      "Test loss: 0.09112649410963058\n",
      "Test accuracy: 0.9839000105857849\n"
     ]
    }
   ],
   "source": [
    "batch_size = 128\n",
    "epochs = 20\n",
    "learning_rate = .001\n",
    "\n",
    "\n",
    "model_2.compile(loss='categorical_crossentropy',\n",
    "              optimizer=RMSprop(lr = learning_rate),\n",
    "              metrics=['accuracy'])\n",
    "\n",
    "history = model_2.fit(x_train, y_train,\n",
    "                    batch_size=batch_size,\n",
    "                    epochs=epochs,\n",
    "                    verbose=1,\n",
    "                    validation_data=(x_test, y_test))\n",
    "score = model_2.evaluate(x_test, y_test, verbose=0)\n",
    "print('')\n",
    "print('Test loss:', score[0])\n",
    "print('Test accuracy:', score[1])"
   ]
  },
  {
   "cell_type": "code",
   "execution_count": 19,
   "metadata": {
    "jupyter": {
     "outputs_hidden": false
    }
   },
   "outputs": [
    {
     "data": {
      "image/png": "[encoded data removed]",
      "text/plain": [
       "<Figure size 864x432 with 2 Axes>"
      ]
     },
     "metadata": {
      "needs_background": "light"
     },
     "output_type": "display_data"
    }
   ],
   "source": [
    "plot_loss_accuracy(history)"
   ]
  },
  {
   "cell_type": "markdown",
   "metadata": {},
   "source": [
    "## Think about the following questions\n",
    "\n",
    "1) How do model_1 and model_2 compare?  Which do you prefer?  If you were going to put one into production, which would you choose and why?\n",
    "\n",
    "2) Compare the trajectories of the loss function on the training set and test set for each model?  How do they compare?  What does that suggest about each model?  Do the same for accuracy?  Which do you think is more meaningful, the loss or the accuracy?\n",
    "\n",
    "3) Suggest an improvement to one of the models (changing structure, learning rate, number of epochs, etc.) that you think will result in a better model.  Try it out below?  Did it improve the performance?"
   ]
  },
  {
   "cell_type": "code",
   "execution_count": 20,
   "metadata": {
    "jupyter": {
     "outputs_hidden": false
    }
   },
   "outputs": [],
   "source": [
    "model_3 = Sequential()\n",
    "model_3.add(Dense(400, activation='relu', input_shape=(784,)))\n",
    "model_3.add(Dropout(0.1))\n",
    "model_3.add(Dense(300, activation='relu', input_shape=(784,)))\n",
    "model_3.add(Dropout(0.1))\n",
    "model_3.add(Dense(10, activation='softmax'))"
   ]
  },
  {
   "cell_type": "code",
   "execution_count": 21,
   "metadata": {
    "jupyter": {
     "outputs_hidden": false
    }
   },
   "outputs": [
    {
     "name": "stdout",
     "output_type": "stream",
     "text": [
      "Epoch 1/25\n",
      "469/469 [==============================] - 8s 14ms/step - loss: 0.6056 - accuracy: 0.8460 - val_loss: 0.2684 - val_accuracy: 0.9242\n",
      "Epoch 2/25\n",
      "469/469 [==============================] - 7s 16ms/step - loss: 0.2573 - accuracy: 0.9258 - val_loss: 0.1965 - val_accuracy: 0.9423\n",
      "Epoch 3/25\n",
      "469/469 [==============================] - 8s 18ms/step - loss: 0.1978 - accuracy: 0.9428 - val_loss: 0.1590 - val_accuracy: 0.9540\n",
      "Epoch 4/25\n",
      "469/469 [==============================] - 7s 15ms/step - loss: 0.1610 - accuracy: 0.9525 - val_loss: 0.1339 - val_accuracy: 0.9596\n",
      "Epoch 5/25\n",
      "469/469 [==============================] - 6s 13ms/step - loss: 0.1366 - accuracy: 0.9597 - val_loss: 0.1182 - val_accuracy: 0.9648\n",
      "Epoch 6/25\n",
      "469/469 [==============================] - 6s 13ms/step - loss: 0.1182 - accuracy: 0.9657 - val_loss: 0.1070 - val_accuracy: 0.9674\n",
      "Epoch 7/25\n",
      "469/469 [==============================] - 8s 17ms/step - loss: 0.1032 - accuracy: 0.9696 - val_loss: 0.0984 - val_accuracy: 0.9701\n",
      "Epoch 8/25\n",
      "469/469 [==============================] - 7s 15ms/step - loss: 0.0929 - accuracy: 0.9729 - val_loss: 0.0897 - val_accuracy: 0.9722\n",
      "Epoch 9/25\n",
      "469/469 [==============================] - 7s 16ms/step - loss: 0.0842 - accuracy: 0.9750 - val_loss: 0.0876 - val_accuracy: 0.9732\n",
      "Epoch 10/25\n",
      "469/469 [==============================] - 7s 14ms/step - loss: 0.0756 - accuracy: 0.9776 - val_loss: 0.0811 - val_accuracy: 0.9748\n",
      "Epoch 11/25\n",
      "469/469 [==============================] - 7s 15ms/step - loss: 0.0693 - accuracy: 0.9794 - val_loss: 0.0779 - val_accuracy: 0.9758\n",
      "Epoch 12/25\n",
      "469/469 [==============================] - 8s 16ms/step - loss: 0.0642 - accuracy: 0.9811 - val_loss: 0.0747 - val_accuracy: 0.9760\n",
      "Epoch 13/25\n",
      "469/469 [==============================] - 7s 14ms/step - loss: 0.0579 - accuracy: 0.9827 - val_loss: 0.0704 - val_accuracy: 0.9773\n",
      "Epoch 14/25\n",
      "469/469 [==============================] - 7s 14ms/step - loss: 0.0537 - accuracy: 0.9843 - val_loss: 0.0693 - val_accuracy: 0.9777\n",
      "Epoch 15/25\n",
      "469/469 [==============================] - 6s 14ms/step - loss: 0.0498 - accuracy: 0.9851 - val_loss: 0.0672 - val_accuracy: 0.9781\n",
      "Epoch 16/25\n",
      "469/469 [==============================] - 7s 15ms/step - loss: 0.0459 - accuracy: 0.9863 - val_loss: 0.0687 - val_accuracy: 0.9775\n",
      "Epoch 17/25\n",
      "469/469 [==============================] - 7s 14ms/step - loss: 0.0429 - accuracy: 0.9868 - val_loss: 0.0651 - val_accuracy: 0.9799\n",
      "Epoch 18/25\n",
      "469/469 [==============================] - 7s 14ms/step - loss: 0.0405 - accuracy: 0.9883 - val_loss: 0.0633 - val_accuracy: 0.9797\n",
      "Epoch 19/25\n",
      "469/469 [==============================] - 7s 14ms/step - loss: 0.0378 - accuracy: 0.9886 - val_loss: 0.0650 - val_accuracy: 0.9794\n",
      "Epoch 20/25\n",
      "469/469 [==============================] - 7s 15ms/step - loss: 0.0348 - accuracy: 0.9898 - val_loss: 0.0640 - val_accuracy: 0.9796\n",
      "Epoch 21/25\n",
      "469/469 [==============================] - 7s 15ms/step - loss: 0.0324 - accuracy: 0.9905 - val_loss: 0.0614 - val_accuracy: 0.9797\n",
      "Epoch 22/25\n",
      "469/469 [==============================] - 8s 16ms/step - loss: 0.0313 - accuracy: 0.9908 - val_loss: 0.0606 - val_accuracy: 0.9806\n",
      "Epoch 23/25\n",
      "469/469 [==============================] - 9s 19ms/step - loss: 0.0278 - accuracy: 0.9919 - val_loss: 0.0612 - val_accuracy: 0.9815\n",
      "Epoch 24/25\n",
      "469/469 [==============================] - 9s 18ms/step - loss: 0.0270 - accuracy: 0.9923 - val_loss: 0.0631 - val_accuracy: 0.9810\n",
      "Epoch 25/25\n",
      "469/469 [==============================] - 8s 16ms/step - loss: 0.0255 - accuracy: 0.9926 - val_loss: 0.0626 - val_accuracy: 0.9812\n",
      "\n",
      "Test loss: 0.06258038431406021\n",
      "Test accuracy: 0.9811999797821045\n"
     ]
    },
    {
     "data": {
      "image/png": "[encoded data removed]",
      "text/plain": [
       "<Figure size 864x432 with 2 Axes>"
      ]
     },
     "metadata": {
      "needs_background": "light"
     },
     "output_type": "display_data"
    }
   ],
   "source": [
    "batch_size = 128\n",
    "epochs = 25\n",
    "learning_rate = .0001\n",
    "\n",
    "\n",
    "model_3.compile(loss='categorical_crossentropy',\n",
    "              optimizer=RMSprop(lr = .0001),\n",
    "              metrics=['accuracy'])\n",
    "\n",
    "history = model_3.fit(x_train, y_train,\n",
    "                    batch_size=batch_size,\n",
    "                    epochs=epochs,\n",
    "                    verbose=1,\n",
    "                    validation_data=(x_test, y_test))\n",
    "score = model_3.evaluate(x_test, y_test, verbose=0)\n",
    "print('')\n",
    "print('Test loss:', score[0])\n",
    "print('Test accuracy:', score[1])\n",
    "plot_loss_accuracy(history)"
   ]
  },
  {
   "cell_type": "code",
   "execution_count": null,
   "metadata": {},
   "outputs": [],
   "source": []
  }
 ],
 "metadata": {
  "kernelspec": {
   "display_name": "Python 3 (ipykernel)",
   "language": "python",
   "name": "python3"
  },
  "language_info": {
   "codemirror_mode": {
    "name": "ipython",
    "version": 3
   },
   "file_extension": ".py",
   "mimetype": "text/x-python",
   "name": "python",
   "nbconvert_exporter": "python",
   "pygments_lexer": "ipython3",
   "version": "3.9.12"
  }
 },
 "nbformat": 4,
 "nbformat_minor": 4
}
